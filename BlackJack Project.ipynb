{
 "cells": [
  {
   "cell_type": "code",
   "execution_count": null,
   "metadata": {
    "collapsed": false
   },
   "outputs": [],
   "source": [
    "# Global Variables and library/modules\n",
    "import random\n",
    "from IPython.display import clear_output\n",
    "\n",
    "suits = ('Spades','Diamonds','Hearts','Clubs')\n",
    "ranking = ('2','3','4','5','6','7','8','9','10','J','Q','K','A')\n",
    "card_value = {'A':1,'2':2,'3':3,'4':4,'5':5,'6':6,'7':7,'8':8,'9':9,'10':10,'J':10,'Q':10,'K':10}"
   ]
  },
  {
   "cell_type": "code",
   "execution_count": null,
   "metadata": {
    "collapsed": false
   },
   "outputs": [],
   "source": [
    "intro()\n",
    "\n",
    "# Set up player and Dealer\n",
    "player = get_player()\n",
    "dealer = Player(\"dealer\")\n",
    "\n",
    "while input('\\nWould you like to play (P) or quit (Q)? ').upper() == 'P':\n",
    "    if player.chips == 0:\n",
    "        print('\\nSorry, you ran out of chips to play!')\n",
    "        break\n",
    "    player_hand = Hand()\n",
    "    dealer_hand = Hand()\n",
    "    deck = Deck()\n",
    "    deck.deck_shuffle()\n",
    "    draw()\n",
    "\n",
    "quit()\n"
   ]
  },
  {
   "cell_type": "code",
   "execution_count": null,
   "metadata": {
    "collapsed": true
   },
   "outputs": [],
   "source": [
    "def get_player():\n",
    "    name = input(\"Please Enter Player's Name:\")\n",
    "    coin = int(input(\"Please Enter Initial Chip Deposit:\"))\n",
    "    return Player(name,coin)"
   ]
  },
  {
   "cell_type": "code",
   "execution_count": null,
   "metadata": {
    "collapsed": false
   },
   "outputs": [],
   "source": [
    "#set up play_hand\n",
    "def draw():    \n",
    "    global player_hand, dealer_hand,deck\n",
    "    \n",
    "    #display chip count\n",
    "    print(player.display_player())\n",
    "    \n",
    "    #make bet\n",
    "    bet = bet_check()\n",
    "    \n",
    "    # deal initial card\n",
    "    player_hand.add_card(deck.deal_card())\n",
    "    player_hand.add_card(deck.deal_card())\n",
    "    dealer_hand.add_card(deck.deal_card())\n",
    "    dealer_hand.add_card(deck.deal_card())\n",
    "    \n",
    "    #dsiplay hand\n",
    "    print_current_hand(False)\n",
    "    \n",
    "    #check for natural blackjack\n",
    "    if player_hand.calc_value() == 21:\n",
    "        print('\\nBlackjack!')\n",
    "        player.update_bankroll(bet*1.5)\n",
    "        \n",
    "    else:    \n",
    "        action = input('Would you like to hit (H), stand (S), double down (DD) ').upper()\n",
    "        hit_stand(action,bet)"
   ]
  },
  {
   "cell_type": "code",
   "execution_count": null,
   "metadata": {
    "collapsed": false
   },
   "outputs": [],
   "source": [
    "def bet_check():\n",
    "    bet = int(input('Enter bet amount: '))\n",
    "    if 0 < bet <= player.chips:\n",
    "        return bet\n",
    "    else:\n",
    "        print('Insufficent Chips to bet')\n",
    "        bet_check()"
   ]
  },
  {
   "cell_type": "code",
   "execution_count": null,
   "metadata": {
    "collapsed": false
   },
   "outputs": [],
   "source": [
    "def hit_stand(action,bet):\n",
    "    #hit\n",
    "    if action == 'DD':\n",
    "        #add single card to hand\n",
    "        player_hand.add_card(deck.deal_card())\n",
    "        #double bet\n",
    "        double = bet*2\n",
    "        #force stand and pass double bet\n",
    "        hit_stand('S',double)\n",
    "    elif action == 'H':\n",
    "        #add card to player hand\n",
    "        player_hand.add_card(deck.deal_card())\n",
    "        print_current_hand(False)\n",
    "        #check for bust\n",
    "        if player_hand.calc_value() > 21:\n",
    "            print('\\nPlayer Busted!')\n",
    "            player.update_bankroll(-bet)\n",
    "        else:\n",
    "            next_action = input('Would you like to hit or stand?  ').upper()\n",
    "            hit_stand(next_action,bet)\n",
    "    elif action == 'S':\n",
    "        #player stand - now do computer. Force dealer to hit up to soft 17\n",
    "        print_current_hand(True)\n",
    "        if dealer_hand.calc_value()<17:\n",
    "            dealer_hand.add_card(deck.deal_card())\n",
    "            print_current_hand(True)\n",
    "            hit_stand(action,bet)\n",
    "        elif dealer_hand.calc_value()>21:\n",
    "            print('\\nDealer busts! You win!')\n",
    "            player.update_bankroll(bet)\n",
    "        elif player_hand.calc_value() == dealer_hand.calc_value():\n",
    "            print('\\nPush!')\n",
    "        else:\n",
    "            if player_hand.calc_value()<dealer_hand.calc_value():\n",
    "                print('\\nDealer wins!')\n",
    "                player.update_bankroll(-bet)\n",
    "            else:\n",
    "                print('\\nPlayer wins!')\n",
    "                player.update_bankroll(bet)"
   ]
  },
  {
   "cell_type": "code",
   "execution_count": null,
   "metadata": {
    "collapsed": false
   },
   "outputs": [],
   "source": [
    "class Deck(object):\n",
    "    \n",
    "    #initialize deck\n",
    "    def __init__(self):\n",
    "        self.deck = []\n",
    "        for suit in suits:\n",
    "            for rank in ranking:\n",
    "                self.deck.append(Card(rank,suit))\n",
    "    \n",
    "    #shuffle deck\n",
    "    def deck_shuffle(self):\n",
    "        random.shuffle(self.deck)\n",
    "    \n",
    "    #deal card\n",
    "    def deal_card(self):\n",
    "        single_card = self.deck.pop()\n",
    "        return single_card"
   ]
  },
  {
   "cell_type": "code",
   "execution_count": null,
   "metadata": {
    "collapsed": false
   },
   "outputs": [],
   "source": [
    "#define a player's hand\n",
    "class Hand(object):\n",
    "    \n",
    "    def __init__(self):\n",
    "        self.cards = []\n",
    "        self.value = 0\n",
    "        self.ace = False\n",
    "    \n",
    "    def __str__(self):\n",
    "        #returns a string of current hand\n",
    "        card_hold = \"\"\n",
    "        for card in self.cards:\n",
    "            name = card.__str__()\n",
    "            card_hold += \" |\" + name +\"|\" \n",
    "            \n",
    "        return card_hold    \n",
    "    \n",
    "    def add_card(self, card):\n",
    "        #check for Ace\n",
    "        if card.rank == 'A':\n",
    "            self.ace = True\n",
    "\n",
    "        #append card to hand\n",
    "        self.cards.append(card)\n",
    "        \n",
    "        #update hand value for card\n",
    "        self.value += card_value[card.rank]\n",
    "        \n",
    "    def calc_value(self):\n",
    "        #check if ace for calculation. If under 12 to avoid bust\n",
    "        if self.ace == True and self.value < 12:\n",
    "            return self.value + 10\n",
    "        else:\n",
    "            return self.value"
   ]
  },
  {
   "cell_type": "code",
   "execution_count": null,
   "metadata": {
    "collapsed": false
   },
   "outputs": [],
   "source": [
    "#define a card\n",
    "class Card(object):\n",
    "    \n",
    "    def __init__(self,rank,suit):\n",
    "        self.suit = suit\n",
    "        self.rank = rank\n",
    "    \n",
    "    def __str__(self):\n",
    "        return self.rank+' of '+self.suit\n",
    "        "
   ]
  },
  {
   "cell_type": "code",
   "execution_count": null,
   "metadata": {
    "collapsed": false
   },
   "outputs": [],
   "source": [
    "#define a player class\n",
    "class Player(object):\n",
    "    \n",
    "    def __init__(self, name, chips = 1000):\n",
    "        self.name = name\n",
    "        self.chips = chips\n",
    "        self.hand=[]\n",
    "    \n",
    "    def update_bankroll(self, amount):\n",
    "        self.chips+=amount\n",
    "        \n",
    "    def add_hand(self):\n",
    "        self.hand.append(hand)\n",
    "        \n",
    "    def display_player(self):\n",
    "        return \"%s has %s chip(s)\" %(self.name,self.chips)"
   ]
  },
  {
   "cell_type": "code",
   "execution_count": null,
   "metadata": {
    "collapsed": false
   },
   "outputs": [],
   "source": [
    "def print_current_hand(state):\n",
    "    clear_output()\n",
    "    if state == True:\n",
    "        print(player.name)\n",
    "        print('-------')\n",
    "        print(player_hand.__str__())\n",
    "        #print('hand value',player_hand.calc_value()) # for testing\n",
    "        print(\"\\nDealer\")\n",
    "        print('-------')\n",
    "        print(dealer_hand.__str__())\n",
    "        #print('hand value',dealer_hand.calc_value()) # for testing\n",
    "    else:\n",
    "        print(player.name)\n",
    "        print('-------')\n",
    "        print(player_hand.__str__())\n",
    "    \n",
    "        print(\"\\nDealer\")\n",
    "        print('-------')\n",
    "        print('|',dealer_hand.cards[0],'| with hole card hidden')"
   ]
  },
  {
   "cell_type": "code",
   "execution_count": null,
   "metadata": {
    "collapsed": true
   },
   "outputs": [],
   "source": [
    "def intro():\n",
    "    intro = '''Welcome to blackjack! The rules of the game are simple, the hand closest to 21 wins the pot! Please use H or S to hit and stand when drawing cards '''\n",
    "    print(intro)"
   ]
  },
  {
   "cell_type": "code",
   "execution_count": null,
   "metadata": {
    "collapsed": false
   },
   "outputs": [],
   "source": [
    "def quit():\n",
    "    print('\\nThanks for playing! Your final chip count is:',player.chips)\n",
    "    \n",
    "    "
   ]
  },
  {
   "cell_type": "code",
   "execution_count": null,
   "metadata": {
    "collapsed": false
   },
   "outputs": [],
   "source": [
    "print(player_hand)\n"
   ]
  },
  {
   "cell_type": "code",
   "execution_count": null,
   "metadata": {
    "collapsed": true
   },
   "outputs": [],
   "source": []
  },
  {
   "cell_type": "code",
   "execution_count": null,
   "metadata": {
    "collapsed": true
   },
   "outputs": [],
   "source": []
  },
  {
   "cell_type": "code",
   "execution_count": null,
   "metadata": {
    "collapsed": true
   },
   "outputs": [],
   "source": []
  },
  {
   "cell_type": "code",
   "execution_count": null,
   "metadata": {
    "collapsed": true
   },
   "outputs": [],
   "source": []
  },
  {
   "cell_type": "code",
   "execution_count": null,
   "metadata": {
    "collapsed": true
   },
   "outputs": [],
   "source": []
  },
  {
   "cell_type": "code",
   "execution_count": null,
   "metadata": {
    "collapsed": true
   },
   "outputs": [],
   "source": []
  },
  {
   "cell_type": "code",
   "execution_count": null,
   "metadata": {
    "collapsed": true
   },
   "outputs": [],
   "source": []
  },
  {
   "cell_type": "code",
   "execution_count": null,
   "metadata": {
    "collapsed": true
   },
   "outputs": [],
   "source": []
  },
  {
   "cell_type": "code",
   "execution_count": null,
   "metadata": {
    "collapsed": true
   },
   "outputs": [],
   "source": []
  },
  {
   "cell_type": "code",
   "execution_count": null,
   "metadata": {
    "collapsed": false
   },
   "outputs": [],
   "source": [
    "\n",
    "            \n",
    "\n"
   ]
  },
  {
   "cell_type": "code",
   "execution_count": null,
   "metadata": {
    "collapsed": false
   },
   "outputs": [],
   "source": [
    "\n",
    "    \n",
    "\n",
    "\n"
   ]
  },
  {
   "cell_type": "code",
   "execution_count": null,
   "metadata": {
    "collapsed": false
   },
   "outputs": [],
   "source": [
    "\n",
    "\n",
    "\n",
    "\n",
    "\n",
    "\n",
    "    \n"
   ]
  },
  {
   "cell_type": "code",
   "execution_count": null,
   "metadata": {
    "collapsed": false
   },
   "outputs": [],
   "source": []
  }
 ],
 "metadata": {
  "kernelspec": {
   "display_name": "Python 3",
   "language": "python",
   "name": "python3"
  },
  "language_info": {
   "codemirror_mode": {
    "name": "ipython",
    "version": 3
   },
   "file_extension": ".py",
   "mimetype": "text/x-python",
   "name": "python",
   "nbconvert_exporter": "python",
   "pygments_lexer": "ipython3",
   "version": "3.5.1"
  },
  "widgets": {
   "state": {},
   "version": "1.1.2"
  }
 },
 "nbformat": 4,
 "nbformat_minor": 0
}
