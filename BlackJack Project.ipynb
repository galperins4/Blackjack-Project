{
 "cells": [
  {
   "cell_type": "code",
   "execution_count": 78,
   "metadata": {
    "collapsed": false
   },
   "outputs": [],
   "source": [
    "#define a player class\n",
    "class Player(object):\n",
    "    \n",
    "    def __init__(self, name, money = 100):\n",
    "        self.name = name\n",
    "        self.money = money\n",
    "    \n",
    "    def update_bankroll(self, amount):\n",
    "        self.money+=amount\n",
    "    \n",
    "    "
   ]
  },
  {
   "cell_type": "code",
   "execution_count": 79,
   "metadata": {
    "collapsed": false
   },
   "outputs": [],
   "source": [
    "#define a player's hand - subclass of Player\n",
    "class PlayerHand(object):\n",
    "    \n",
    "    def __init__(self, card1, card2):\n",
    "        self.card1 = card1\n",
    "        self.card2 = card2\n",
    "        self.hand = [self.card1,self.card2]\n",
    "        \n",
    "    def add_card(self, card):\n",
    "        self.hand.append(card)"
   ]
  },
  {
   "cell_type": "code",
   "execution_count": 80,
   "metadata": {
    "collapsed": false
   },
   "outputs": [],
   "source": [
    "#define a card\n",
    "class Card(object):\n",
    "    \n",
    "    def __init__(self,suit,rank):\n",
    "        self.suit = suit\n",
    "        self.rank = rank\n",
    "        \n",
    "    def grab_suit(self):\n",
    "        return self.suit\n",
    "    \n",
    "    def grab_rank(self):\n",
    "        return self.rank\n",
    "    \n",
    "    def card_value(self):\n",
    "        cardval = {'A':1,'2':2,'3':3,'4':4,'5':5,'6':6,'7':7,'8':8,'9':9,'10':10,'J':10,'Q':10,'K':10}\n",
    "        return cardval[self.rank]\n",
    "    \n",
    "    def __str__(self):\n",
    "        return \"You card is the %s of %s\" %(self.rank, self.suit)\n",
    "    \n",
    "    "
   ]
  },
  {
   "cell_type": "code",
   "execution_count": null,
   "metadata": {
    "collapsed": false
   },
   "outputs": [],
   "source": [
    "#define a deck"
   ]
  },
  {
   "cell_type": "code",
   "execution_count": null,
   "metadata": {
    "collapsed": true
   },
   "outputs": [],
   "source": []
  },
  {
   "cell_type": "code",
   "execution_count": null,
   "metadata": {
    "collapsed": false
   },
   "outputs": [],
   "source": []
  }
 ],
 "metadata": {
  "kernelspec": {
   "display_name": "Python 3",
   "language": "python",
   "name": "python3"
  },
  "language_info": {
   "codemirror_mode": {
    "name": "ipython",
    "version": 3
   },
   "file_extension": ".py",
   "mimetype": "text/x-python",
   "name": "python",
   "nbconvert_exporter": "python",
   "pygments_lexer": "ipython3",
   "version": "3.5.1"
  },
  "widgets": {
   "state": {},
   "version": "1.1.2"
  }
 },
 "nbformat": 4,
 "nbformat_minor": 0
}
